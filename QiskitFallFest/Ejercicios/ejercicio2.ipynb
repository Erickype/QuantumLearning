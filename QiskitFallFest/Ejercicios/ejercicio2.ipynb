{
 "cells": [
  {
   "cell_type": "code",
   "execution_count": 1,
   "metadata": {},
   "outputs": [],
   "source": [
    "import time\n",
    "import numpy as np\n",
    "from qiskit import *\n",
    "from qiskit.circuit import Parameter\n",
    "from qiskit.quantum_info import Statevector, Pauli, SparsePauliOp\n",
    "from qiskit.circuit.library import RealAmplitudes\n",
    "import matplotlib.pyplot as plt\n",
    "import matplotlib.ticker as tck\n",
    "from qiskit.tools.visualization import plot_histogram\n",
    "# %config InlineBackend.figure_format='retina'"
   ]
  },
  {
   "cell_type": "code",
   "execution_count": 2,
   "metadata": {},
   "outputs": [],
   "source": [
    "from qiskit_ibm_runtime import QiskitRuntimeService, Session, Options, Sampler, Estimator"
   ]
  },
  {
   "cell_type": "code",
   "execution_count": 3,
   "metadata": {},
   "outputs": [],
   "source": [
    "service = QiskitRuntimeService(channel='ibm_quantum')"
   ]
  },
  {
   "cell_type": "code",
   "execution_count": 4,
   "metadata": {},
   "outputs": [
    {
     "data": {
      "text/plain": [
       "[<IBMBackend('ibm_brisbane')>,\n",
       " <IBMBackend('simulator_extended_stabilizer')>,\n",
       " <IBMBackend('simulator_stabilizer')>,\n",
       " <IBMBackend('ibm_nairobi')>,\n",
       " <IBMBackend('ibm_lagos')>,\n",
       " <IBMBackend('ibmq_qasm_simulator')>,\n",
       " <IBMBackend('simulator_mps')>,\n",
       " <IBMBackend('simulator_statevector')>,\n",
       " <IBMBackend('ibm_perth')>]"
      ]
     },
     "execution_count": 4,
     "metadata": {},
     "output_type": "execute_result"
    }
   ],
   "source": [
    "service.backends()"
   ]
  },
  {
   "cell_type": "code",
   "execution_count": 28,
   "metadata": {},
   "outputs": [
    {
     "data": {
      "text/html": [
       "<pre style=\"word-wrap: normal;white-space: pre;background: #fff0;line-height: 1.1;font-family: &quot;Courier New&quot;,Courier,monospace\">     ┌───┐          ┌───┐   ┌─┐\n",
       "q_0: ┤ H ├───────■──┤ H ├───┤M├\n",
       "     ├───┤┌───┐  │  └┬─┬┘   └╥┘\n",
       "q_1: ┤ H ├┤ H ├──┼───┤M├─────╫─\n",
       "     ├───┤├───┤  │   └╥┘ ┌─┐ ║ \n",
       "q_2: ┤ H ├┤ H ├──┼────╫──┤M├─╫─\n",
       "     ├───┤├───┤┌─┴─┐  ║  └╥┘ ║ \n",
       "q_3: ┤ X ├┤ H ├┤ X ├──╫───╫──╫─\n",
       "     └───┘└───┘└───┘  ║   ║  ║ \n",
       "c: 3/═════════════════╩═══╩══╩═\n",
       "                      1   2  0 </pre>"
      ],
      "text/plain": [
       "     ┌───┐          ┌───┐   ┌─┐\n",
       "q_0: ┤ H ├───────■──┤ H ├───┤M├\n",
       "     ├───┤┌───┐  │  └┬─┬┘   └╥┘\n",
       "q_1: ┤ H ├┤ H ├──┼───┤M├─────╫─\n",
       "     ├───┤├───┤  │   └╥┘ ┌─┐ ║ \n",
       "q_2: ┤ H ├┤ H ├──┼────╫──┤M├─╫─\n",
       "     ├───┤├───┤┌─┴─┐  ║  └╥┘ ║ \n",
       "q_3: ┤ X ├┤ H ├┤ X ├──╫───╫──╫─\n",
       "     └───┘└───┘└───┘  ║   ║  ║ \n",
       "c: 3/═════════════════╩═══╩══╩═\n",
       "                      1   2  0 "
      ]
     },
     "execution_count": 28,
     "metadata": {},
     "output_type": "execute_result"
    }
   ],
   "source": [
    "# Make a quantum circuit\n",
    "qc = QuantumCircuit(4, 3)\n",
    "\n",
    "# |-> to output\n",
    "qc.x(3)\n",
    "qc.h(3)\n",
    "\n",
    "# |H> to input\n",
    "qc.h(0)\n",
    "qc.h(1)\n",
    "qc.h(2)\n",
    "\n",
    "# call to oracle\n",
    "qc.cx(0,3)\n",
    "\n",
    "# |H> to input\n",
    "qc.h(0)\n",
    "qc.h(1)\n",
    "qc.h(2)\n",
    "\n",
    "qc.measure(range(3), range(3))\n",
    "\n",
    "qc.draw()"
   ]
  },
  {
   "cell_type": "code",
   "execution_count": 29,
   "metadata": {},
   "outputs": [
    {
     "name": "stdout",
     "output_type": "stream",
     "text": [
      "{'001': 1024}\n"
     ]
    }
   ],
   "source": [
    "# Use local simulator\n",
    "aer_sim = Aer.get_backend('aer_simulator')\n",
    "shots = 1024\n",
    "results = aer_sim.run(qc).result()\n",
    "answer = results.get_counts()\n",
    "print(answer)"
   ]
  },
  {
   "cell_type": "code",
   "execution_count": 64,
   "metadata": {},
   "outputs": [],
   "source": [
    "def bernstein_vazirani(string):\n",
    "    \n",
    "    # Save the length of string\n",
    "    string_length = len(string)\n",
    "    \n",
    "    # Make a quantum circuit\n",
    "    qc = QuantumCircuit(string_length+1, string_length)\n",
    "    \n",
    "    # Initialize each input qubit to apply a Hadamard gate and output qubit to |->\n",
    "    \n",
    "    # |-> to output\n",
    "    qc.x(string_length)\n",
    "    qc.h(string_length)\n",
    "\n",
    "    # |H> to input\n",
    "    for i in range(string_length):\n",
    "        qc.h(i)\n",
    "    qc.barrier()\n",
    "    \n",
    "    # Apply an oracle for the given string\n",
    "    # Note: In Qiskit, numbers are assigned to the bits in a string from right to left\n",
    "    for i in range(string_length):\n",
    "        if(string[i] == '1'):\n",
    "            qc.cx(i, string_length)\n",
    "    qc.barrier()\n",
    "    \n",
    "    # Apply Hadamard gates after querying the oracle\n",
    "    \n",
    "    # |H> to input\n",
    "    for i in range(string_length):\n",
    "        qc.h(i)    \n",
    "    qc.barrier()\n",
    "    \n",
    "    # Measurement\n",
    "    qc.measure(range(string_length), range(string_length))\n",
    "    \n",
    "    return qc"
   ]
  },
  {
   "cell_type": "code",
   "execution_count": 65,
   "metadata": {},
   "outputs": [
    {
     "data": {
      "text/html": [
       "<pre style=\"word-wrap: normal;white-space: pre;background: #fff0;line-height: 1.1;font-family: &quot;Courier New&quot;,Courier,monospace\">     ┌───┐      ░                 ░ ┌───┐ ░ ┌─┐      \n",
       "q_0: ┤ H ├──────░───■─────────────░─┤ H ├─░─┤M├──────\n",
       "     ├───┤      ░   │             ░ ├───┤ ░ └╥┘┌─┐   \n",
       "q_1: ┤ H ├──────░───┼────■────────░─┤ H ├─░──╫─┤M├───\n",
       "     ├───┤      ░   │    │        ░ ├───┤ ░  ║ └╥┘┌─┐\n",
       "q_2: ┤ H ├──────░───┼────┼────■───░─┤ H ├─░──╫──╫─┤M├\n",
       "     ├───┤┌───┐ ░ ┌─┴─┐┌─┴─┐┌─┴─┐ ░ └───┘ ░  ║  ║ └╥┘\n",
       "q_3: ┤ X ├┤ H ├─░─┤ X ├┤ X ├┤ X ├─░───────░──╫──╫──╫─\n",
       "     └───┘└───┘ ░ └───┘└───┘└───┘ ░       ░  ║  ║  ║ \n",
       "c: 3/════════════════════════════════════════╩══╩══╩═\n",
       "                                             0  1  2 </pre>"
      ],
      "text/plain": [
       "     ┌───┐      ░                 ░ ┌───┐ ░ ┌─┐      \n",
       "q_0: ┤ H ├──────░───■─────────────░─┤ H ├─░─┤M├──────\n",
       "     ├───┤      ░   │             ░ ├───┤ ░ └╥┘┌─┐   \n",
       "q_1: ┤ H ├──────░───┼────■────────░─┤ H ├─░──╫─┤M├───\n",
       "     ├───┤      ░   │    │        ░ ├───┤ ░  ║ └╥┘┌─┐\n",
       "q_2: ┤ H ├──────░───┼────┼────■───░─┤ H ├─░──╫──╫─┤M├\n",
       "     ├───┤┌───┐ ░ ┌─┴─┐┌─┴─┐┌─┴─┐ ░ └───┘ ░  ║  ║ └╥┘\n",
       "q_3: ┤ X ├┤ H ├─░─┤ X ├┤ X ├┤ X ├─░───────░──╫──╫──╫─\n",
       "     └───┘└───┘ ░ └───┘└───┘└───┘ ░       ░  ║  ║  ║ \n",
       "c: 3/════════════════════════════════════════╩══╩══╩═\n",
       "                                             0  1  2 "
      ]
     },
     "execution_count": 65,
     "metadata": {},
     "output_type": "execute_result"
    }
   ],
   "source": [
    "qc1 = bernstein_vazirani(\"111\")\n",
    "qc1.draw()"
   ]
  },
  {
   "cell_type": "code",
   "execution_count": 66,
   "metadata": {},
   "outputs": [
    {
     "data": {
      "text/html": [
       "<pre style=\"word-wrap: normal;white-space: pre;background: #fff0;line-height: 1.1;font-family: &quot;Courier New&quot;,Courier,monospace\">     ┌───┐      ░  ░ ┌───┐ ░ ┌─┐      \n",
       "q_0: ┤ H ├──────░──░─┤ H ├─░─┤M├──────\n",
       "     ├───┤      ░  ░ ├───┤ ░ └╥┘┌─┐   \n",
       "q_1: ┤ H ├──────░──░─┤ H ├─░──╫─┤M├───\n",
       "     ├───┤      ░  ░ ├───┤ ░  ║ └╥┘┌─┐\n",
       "q_2: ┤ H ├──────░──░─┤ H ├─░──╫──╫─┤M├\n",
       "     ├───┤┌───┐ ░  ░ └───┘ ░  ║  ║ └╥┘\n",
       "q_3: ┤ X ├┤ H ├─░──░───────░──╫──╫──╫─\n",
       "     └───┘└───┘ ░  ░       ░  ║  ║  ║ \n",
       "c: 3/═════════════════════════╩══╩══╩═\n",
       "                              0  1  2 </pre>"
      ],
      "text/plain": [
       "     ┌───┐      ░  ░ ┌───┐ ░ ┌─┐      \n",
       "q_0: ┤ H ├──────░──░─┤ H ├─░─┤M├──────\n",
       "     ├───┤      ░  ░ ├───┤ ░ └╥┘┌─┐   \n",
       "q_1: ┤ H ├──────░──░─┤ H ├─░──╫─┤M├───\n",
       "     ├───┤      ░  ░ ├───┤ ░  ║ └╥┘┌─┐\n",
       "q_2: ┤ H ├──────░──░─┤ H ├─░──╫──╫─┤M├\n",
       "     ├───┤┌───┐ ░  ░ └───┘ ░  ║  ║ └╥┘\n",
       "q_3: ┤ X ├┤ H ├─░──░───────░──╫──╫──╫─\n",
       "     └───┘└───┘ ░  ░       ░  ║  ║  ║ \n",
       "c: 3/═════════════════════════╩══╩══╩═\n",
       "                              0  1  2 "
      ]
     },
     "execution_count": 66,
     "metadata": {},
     "output_type": "execute_result"
    }
   ],
   "source": [
    "qc2 = bernstein_vazirani(\"000\")\n",
    "qc2.draw()"
   ]
  },
  {
   "cell_type": "code",
   "execution_count": 67,
   "metadata": {},
   "outputs": [
    {
     "data": {
      "text/html": [
       "<pre style=\"word-wrap: normal;white-space: pre;background: #fff0;line-height: 1.1;font-family: &quot;Courier New&quot;,Courier,monospace\">     ┌───┐      ░            ░ ┌───┐ ░ ┌─┐         \n",
       "q_0: ┤ H ├──────░────────────░─┤ H ├─░─┤M├─────────\n",
       "     ├───┤      ░            ░ ├───┤ ░ └╥┘┌─┐      \n",
       "q_1: ┤ H ├──────░───■────────░─┤ H ├─░──╫─┤M├──────\n",
       "     ├───┤      ░   │        ░ ├───┤ ░  ║ └╥┘┌─┐   \n",
       "q_2: ┤ H ├──────░───┼────────░─┤ H ├─░──╫──╫─┤M├───\n",
       "     ├───┤      ░   │        ░ ├───┤ ░  ║  ║ └╥┘┌─┐\n",
       "q_3: ┤ H ├──────░───┼────■───░─┤ H ├─░──╫──╫──╫─┤M├\n",
       "     ├───┤┌───┐ ░ ┌─┴─┐┌─┴─┐ ░ └───┘ ░  ║  ║  ║ └╥┘\n",
       "q_4: ┤ X ├┤ H ├─░─┤ X ├┤ X ├─░───────░──╫──╫──╫──╫─\n",
       "     └───┘└───┘ ░ └───┘└───┘ ░       ░  ║  ║  ║  ║ \n",
       "c: 4/═══════════════════════════════════╩══╩══╩══╩═\n",
       "                                        0  1  2  3 </pre>"
      ],
      "text/plain": [
       "     ┌───┐      ░            ░ ┌───┐ ░ ┌─┐         \n",
       "q_0: ┤ H ├──────░────────────░─┤ H ├─░─┤M├─────────\n",
       "     ├───┤      ░            ░ ├───┤ ░ └╥┘┌─┐      \n",
       "q_1: ┤ H ├──────░───■────────░─┤ H ├─░──╫─┤M├──────\n",
       "     ├───┤      ░   │        ░ ├───┤ ░  ║ └╥┘┌─┐   \n",
       "q_2: ┤ H ├──────░───┼────────░─┤ H ├─░──╫──╫─┤M├───\n",
       "     ├───┤      ░   │        ░ ├───┤ ░  ║  ║ └╥┘┌─┐\n",
       "q_3: ┤ H ├──────░───┼────■───░─┤ H ├─░──╫──╫──╫─┤M├\n",
       "     ├───┤┌───┐ ░ ┌─┴─┐┌─┴─┐ ░ └───┘ ░  ║  ║  ║ └╥┘\n",
       "q_4: ┤ X ├┤ H ├─░─┤ X ├┤ X ├─░───────░──╫──╫──╫──╫─\n",
       "     └───┘└───┘ ░ └───┘└───┘ ░       ░  ║  ║  ║  ║ \n",
       "c: 4/═══════════════════════════════════╩══╩══╩══╩═\n",
       "                                        0  1  2  3 "
      ]
     },
     "execution_count": 67,
     "metadata": {},
     "output_type": "execute_result"
    }
   ],
   "source": [
    "qc3 = bernstein_vazirani(\"0101\")\n",
    "qc3.draw()"
   ]
  },
  {
   "cell_type": "code",
   "execution_count": 68,
   "metadata": {},
   "outputs": [
    {
     "data": {
      "text/html": [
       "<pre style=\"word-wrap: normal;white-space: pre;background: #fff0;line-height: 1.1;font-family: &quot;Courier New&quot;,Courier,monospace\">     ┌───┐      ░            ░ ┌───┐ ░ ┌─┐         \n",
       "q_0: ┤ H ├──────░───■────────░─┤ H ├─░─┤M├─────────\n",
       "     ├───┤      ░   │        ░ ├───┤ ░ └╥┘┌─┐      \n",
       "q_1: ┤ H ├──────░───┼────────░─┤ H ├─░──╫─┤M├──────\n",
       "     ├───┤      ░   │        ░ ├───┤ ░  ║ └╥┘┌─┐   \n",
       "q_2: ┤ H ├──────░───┼────■───░─┤ H ├─░──╫──╫─┤M├───\n",
       "     ├───┤      ░   │    │   ░ ├───┤ ░  ║  ║ └╥┘┌─┐\n",
       "q_3: ┤ H ├──────░───┼────┼───░─┤ H ├─░──╫──╫──╫─┤M├\n",
       "     ├───┤┌───┐ ░ ┌─┴─┐┌─┴─┐ ░ └───┘ ░  ║  ║  ║ └╥┘\n",
       "q_4: ┤ X ├┤ H ├─░─┤ X ├┤ X ├─░───────░──╫──╫──╫──╫─\n",
       "     └───┘└───┘ ░ └───┘└───┘ ░       ░  ║  ║  ║  ║ \n",
       "c: 4/═══════════════════════════════════╩══╩══╩══╩═\n",
       "                                        0  1  2  3 </pre>"
      ],
      "text/plain": [
       "     ┌───┐      ░            ░ ┌───┐ ░ ┌─┐         \n",
       "q_0: ┤ H ├──────░───■────────░─┤ H ├─░─┤M├─────────\n",
       "     ├───┤      ░   │        ░ ├───┤ ░ └╥┘┌─┐      \n",
       "q_1: ┤ H ├──────░───┼────────░─┤ H ├─░──╫─┤M├──────\n",
       "     ├───┤      ░   │        ░ ├───┤ ░  ║ └╥┘┌─┐   \n",
       "q_2: ┤ H ├──────░───┼────■───░─┤ H ├─░──╫──╫─┤M├───\n",
       "     ├───┤      ░   │    │   ░ ├───┤ ░  ║  ║ └╥┘┌─┐\n",
       "q_3: ┤ H ├──────░───┼────┼───░─┤ H ├─░──╫──╫──╫─┤M├\n",
       "     ├───┤┌───┐ ░ ┌─┴─┐┌─┴─┐ ░ └───┘ ░  ║  ║  ║ └╥┘\n",
       "q_4: ┤ X ├┤ H ├─░─┤ X ├┤ X ├─░───────░──╫──╫──╫──╫─\n",
       "     └───┘└───┘ ░ └───┘└───┘ ░       ░  ║  ║  ║  ║ \n",
       "c: 4/═══════════════════════════════════╩══╩══╩══╩═\n",
       "                                        0  1  2  3 "
      ]
     },
     "execution_count": 68,
     "metadata": {},
     "output_type": "execute_result"
    }
   ],
   "source": [
    "qc4 = bernstein_vazirani(\"1010\")\n",
    "qc4.draw()"
   ]
  },
  {
   "cell_type": "code",
   "execution_count": 69,
   "metadata": {},
   "outputs": [
    {
     "name": "stdout",
     "output_type": "stream",
     "text": [
      "<IBMBackend('simulator_extended_stabilizer')>\n"
     ]
    }
   ],
   "source": [
    "backend = service.backends(simulator=True)[0]\n",
    "print(backend)"
   ]
  },
  {
   "cell_type": "code",
   "execution_count": 70,
   "metadata": {},
   "outputs": [],
   "source": [
    "options = Options(simulator={\"seed_simulator\": 42}, resilience_level=0) # Do not change values in simulator"
   ]
  },
  {
   "cell_type": "code",
   "execution_count": 71,
   "metadata": {},
   "outputs": [],
   "source": [
    "with Session(service=service, backend=backend):\n",
    "    sampler = Sampler(options=options)\n",
    "    job = sampler.run(circuits=[qc1,qc2,qc3,qc4])"
   ]
  },
  {
   "cell_type": "code",
   "execution_count": 75,
   "metadata": {},
   "outputs": [
    {
     "data": {
      "text/plain": [
       "SamplerResult(quasi_dists=[{7: 1.0}, {0: 1.0}, {10: 1.0}, {5: 1.0}], metadata=[{'shots': 4000, 'circuit_metadata': {}}, {'shots': 4000, 'circuit_metadata': {}}, {'shots': 4000, 'circuit_metadata': {}}, {'shots': 4000, 'circuit_metadata': {}}])"
      ]
     },
     "execution_count": 75,
     "metadata": {},
     "output_type": "execute_result"
    }
   ],
   "source": [
    "result = job.result()\n",
    "result"
   ]
  },
  {
   "cell_type": "code",
   "execution_count": 76,
   "metadata": {},
   "outputs": [
    {
     "data": {
      "text/plain": [
       "[{7: 1.0}, {0: 1.0}, {10: 1.0}, {5: 1.0}]"
      ]
     },
     "execution_count": 76,
     "metadata": {},
     "output_type": "execute_result"
    }
   ],
   "source": [
    "respuesta = result.quasi_dists\n",
    "respuesta"
   ]
  }
 ],
 "metadata": {
  "kernelspec": {
   "display_name": "QiskitEnv",
   "language": "python",
   "name": "python3"
  },
  "language_info": {
   "codemirror_mode": {
    "name": "ipython",
    "version": 3
   },
   "file_extension": ".py",
   "mimetype": "text/x-python",
   "name": "python",
   "nbconvert_exporter": "python",
   "pygments_lexer": "ipython3",
   "version": "3.11.3"
  }
 },
 "nbformat": 4,
 "nbformat_minor": 2
}
